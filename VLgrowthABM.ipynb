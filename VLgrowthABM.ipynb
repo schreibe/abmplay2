{
  "cells": [
    {
      "cell_type": "markdown",
      "metadata": {
        "id": "view-in-github",
        "colab_type": "text"
      },
      "source": [
        "<a href=\"https://colab.research.google.com/github/schreibe/abmplay2/blob/main/VLgrowthABM.ipynb\" target=\"_parent\"><img src=\"https://colab.research.google.com/assets/colab-badge.svg\" alt=\"Open In Colab\"/></a>"
      ]
    },
    {
      "cell_type": "markdown",
      "source": [
        "please make your own copy of this notebook by selecting File-> save a copy"
      ],
      "metadata": {
        "id": "49DY4Quxf1Lr"
      }
    },
    {
      "cell_type": "code",
      "execution_count": null,
      "metadata": {
        "id": "x-dwydPDbKGj"
      },
      "outputs": [],
      "source": [
        "!pip install agentpy"
      ]
    },
    {
      "cell_type": "code",
      "execution_count": null,
      "metadata": {
        "id": "oB2HQpmIbKGl"
      },
      "outputs": [],
      "source": [
        "#Import helpful packages\n",
        "import agentpy as ap\n",
        "import numpy as np\n",
        "import random\n",
        "\n",
        "# For plotting\n",
        "import matplotlib.pyplot as plt"
      ]
    },
    {
      "cell_type": "code",
      "execution_count": null,
      "metadata": {
        "id": "zmDPeObTbKGm"
      },
      "outputs": [],
      "source": [
        "class Farm(ap.Agent):\n",
        "\n",
        "    def setup(self):\n",
        "        #Capital as state variable, values will be filled in from parameter list\n",
        "        self.K = 0.0\n",
        "\n",
        "        #strategy (benevolent planner 'BP', ignorant agent/free rider 'FR')\n",
        "        #option A: values from parameter list\n",
        "        self.strategy = ''\n",
        "        #(Initial) Investment Strategy\n",
        "\n",
        "        #option B:\n",
        "        # agents have random initial investment strategies\n",
        "        #self.random = self.model.random\n",
        "        #self.strategy = self.random.choice(['FR', 'BP'])\n",
        "        #print(self.strategy)\n",
        "\n",
        "        #temporary variables\n",
        "        self.production = 0.0\n",
        "        self.investment = 0.0\n",
        "        self.consumption = 0.0\n",
        "\n",
        "    def produce(self):\n",
        "        #get parameters\n",
        "        alpha = self.p.alpha\n",
        "        eta = self.model.statistician.techPrg[0]\n",
        "\n",
        "        #production function\n",
        "        self.production = (self.K**alpha)*((eta)**(1-alpha))\n",
        "\n",
        "    def decideInvestment(self):\n",
        "        #get parameters\n",
        "        rho = self.p.rho\n",
        "        delta = self.p.delta\n",
        "        alpha = self.p.alpha\n",
        "        eta = self.model.statistician.techPrg[0]\n",
        "\n",
        "        #check strategy and compute investment accordingly\n",
        "        if self.strategy == 'BP':\n",
        "            self.investment = 1 / (1 + rho) * (rho * self.production  - (1 - delta) * self.K )\n",
        "            #print(self.investment) (this print statement was just there to check values when debugging)\n",
        "            # otherwise, self.strategy == 'FR':\n",
        "        else:\n",
        "            self.investment = 1 / (1 + alpha * rho) * (alpha * rho * self.production  - (1 - delta) * self.K )\n",
        "            #print(self.investment) (same here, just to check)\n",
        "\n",
        "    def consume(self):\n",
        "        self.consumption = self.production - self.investment\n",
        "\n",
        "    def invest(self):\n",
        "        self.K = (1 - model.p.delta) * self.K + self.investment\n",
        "\n",
        "        #the following function is not used in the very first model version...\n",
        "    def updateStrategy(self):\n",
        "        partner = self.model.agents.random().to_list()[0]\n",
        "        self.strategy = partner.strategy\n"
      ]
    },
    {
      "cell_type": "code",
      "execution_count": null,
      "metadata": {
        "id": "CzixVLK6bKGo"
      },
      "outputs": [],
      "source": [
        "class Statistician(ap.Agent):\n",
        "\n",
        "    def setup(self):\n",
        "        self.totalK = sum(model.agents.K)\n",
        "        #adapt eta to distribution of initial capital\n",
        "        alpha = self.p.alpha\n",
        "        value = 0.0\n",
        "        for i in model.agents.K:\n",
        "            value += i**alpha\n",
        "        self.techPrg = self.p.eta0 * (self.totalK**alpha/value)**(1/(1-alpha))\n",
        "        self.gdp = 0.0\n",
        "\n",
        "    def aggregateCapital(self):\n",
        "        self.totalK = sum(model.agents.K)\n",
        "\n",
        "    def updateTechProg(self):\n",
        "        self.techPrg = sum(model.agents.K) * self.techPrg/self.totalK\n",
        "        #print(self.techPrg)\n",
        "\n",
        "    def computeGDP(self):\n",
        "        self.gdp = sum(model.agents.production)"
      ]
    },
    {
      "cell_type": "code",
      "execution_count": null,
      "metadata": {
        "id": "kiVK6XyPbKGp"
      },
      "outputs": [],
      "source": [
        "class TestModel(ap.Model):\n",
        "\n",
        "    def setup(self):\n",
        "        #agents: farms and statistician\n",
        "        #list of farms\n",
        "        self.agents = ap.AgentList(self, self.p.farms, Farm)\n",
        "        #fill farms' initial capital from input list (parameters)\n",
        "        self.agents.K = ap.AttrIter(self.p.capitalList)\n",
        "        # for option A above: agents get strategies from parameter list (if option B, comment out the following line)\n",
        "        self.agents.strategy = ap.AttrIter(self.p.strategyList)\n",
        "        #for option B it may be interesting to see which agents got which strategy, if if interest, comment in:\n",
        "        #print(self.agents.strategy)\n",
        "        #\"list\" of one statistician, to make it available to the model\n",
        "        self.statistician = ap.AgentList(self, 1, Statistician)\n",
        "\n",
        "\n",
        "    def step(self):\n",
        "\n",
        "        #farms do their steps\n",
        "        self.agents.produce()\n",
        "        self.agents.decideInvestment()\n",
        "        self.agents.consume()\n",
        "        self.agents.invest()\n",
        "\n",
        "        #statistician updates technical progress (with total capital from previous step and sum of new capitals)\n",
        "        self.statistician.updateTechProg()\n",
        "\n",
        "        #statistician computes overview\n",
        "        self.statistician.computeGDP()\n",
        "        self.statistician.aggregateCapital()\n",
        "\n",
        "        #not for the very beginning... let agents change strategy\n",
        "        #self.agents.updateStrategy()\n",
        "\n",
        "\n",
        "    def update(self):\n",
        "        self.agents.record(\"strategy\")\n",
        "        self.agents.record(\"production\")\n",
        "        self.agents.record(\"investment\")\n",
        "        self.agents.record(\"consumption\")\n",
        "      #  self.model.record(\"K0\")\n",
        "       # self.model.record(\"tech_init\")\n",
        "        self.agents.record(\"K\")\n",
        "        self.statistician.record(\"techPrg\")\n",
        "        self.statistician.record(\"gdp\")\n",
        "        self.statistician.record(\"totalK\")\n",
        "\n"
      ]
    },
    {
      "cell_type": "code",
      "execution_count": null,
      "metadata": {
        "id": "2teSxksebKGp"
      },
      "outputs": [],
      "source": [
        "parameters = {'farms':10,\n",
        "    'capitalList': np.ones(10),\n",
        "    'strategyList': ['BP', 'BP', 'BP', 'BP', 'BP', 'FR', 'FR', 'FR', 'FR', 'FR'],\n",
        "    'steps':5,\n",
        "    'alpha': 0.33,\n",
        "    'delta': 0.05,\n",
        "    'rho':0.99,\n",
        "    'eta0':10\n",
        "             }\n",
        "\n",
        "model = TestModel(parameters)\n",
        "results = model.run()"
      ]
    },
    {
      "cell_type": "code",
      "execution_count": null,
      "metadata": {
        "id": "hH_n3OWPbKGq"
      },
      "outputs": [],
      "source": [
        "results"
      ]
    },
    {
      "cell_type": "code",
      "execution_count": null,
      "metadata": {
        "id": "NYfb9mcDbKGq"
      },
      "outputs": [],
      "source": [
        "results.variables.Farm"
      ]
    },
    {
      "cell_type": "code",
      "execution_count": null,
      "metadata": {
        "id": "fp3FswrCbKGr"
      },
      "outputs": [],
      "source": [
        "results.variables.Statistician"
      ]
    },
    {
      "cell_type": "code",
      "execution_count": null,
      "metadata": {
        "id": "bsJe0yfDbKGs"
      },
      "outputs": [],
      "source": [
        "data = results.variables.Farm\n",
        "#ax = data.plot()\n",
        "steps = parameters.get('steps')\n",
        "span = steps + 1\n",
        "\n",
        "farms = parameters.get('farms')\n",
        "j = 0\n",
        "while j < steps*farms: #j = steps x agents\n",
        "    i = 1\n",
        "    for i in range(1,farms+1): #i = no. agents\n",
        "        data.K[j:j+span].plot( label = 'agent' + str(i))\n",
        "        #data.K[j:j+span].legend()\n",
        "        i += 1\n",
        "        j += span\n",
        "plt.xlabel('Time step')\n",
        "\n",
        "plt.title(\"capital of agents\")\n",
        "plt.legend()"
      ]
    },
    {
      "cell_type": "code",
      "execution_count": null,
      "metadata": {
        "id": "0kdlD3gCbKGs"
      },
      "outputs": [],
      "source": []
    },
    {
      "cell_type": "code",
      "execution_count": null,
      "metadata": {
        "id": "Tl6JsfhpbKGs"
      },
      "outputs": [],
      "source": []
    }
  ],
  "metadata": {
    "kernelspec": {
      "display_name": "Python 3",
      "name": "python3"
    },
    "language_info": {
      "codemirror_mode": {
        "name": "ipython",
        "version": 3
      },
      "file_extension": ".py",
      "mimetype": "text/x-python",
      "name": "python",
      "nbconvert_exporter": "python",
      "pygments_lexer": "ipython3",
      "version": "3.8.5"
    },
    "colab": {
      "provenance": [],
      "private_outputs": true,
      "include_colab_link": true
    }
  },
  "nbformat": 4,
  "nbformat_minor": 0
}